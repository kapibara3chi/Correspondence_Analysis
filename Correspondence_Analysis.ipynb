{
  "nbformat": 4,
  "nbformat_minor": 0,
  "metadata": {
    "colab": {
      "provenance": [],
      "toc_visible": true,
      "mount_file_id": "1cgvXxgqq6sic9bn8O-HIM8OoqNm6VmPA",
      "authorship_tag": "ABX9TyOsjEGf3KFUjaeoNnIi1Dle",
      "include_colab_link": true
    },
    "kernelspec": {
      "name": "python3",
      "display_name": "Python 3"
    },
    "language_info": {
      "name": "python"
    }
  },
  "cells": [
    {
      "cell_type": "markdown",
      "metadata": {
        "id": "view-in-github",
        "colab_type": "text"
      },
      "source": [
        "<a href=\"https://colab.research.google.com/github/kapibara3chi/Correspondence_Analysis/blob/main/Correspondence_Analysis.ipynb\" target=\"_parent\"><img src=\"https://colab.research.google.com/assets/colab-badge.svg\" alt=\"Open In Colab\"/></a>"
      ]
    },
    {
      "cell_type": "code",
      "execution_count": 2,
      "metadata": {
        "colab": {
          "base_uri": "https://localhost:8080/"
        },
        "id": "pkHLvr-fL5Ea",
        "outputId": "135fae0d-548f-4416-f041-98c0e4e06fdd"
      },
      "outputs": [
        {
          "output_type": "stream",
          "name": "stdout",
          "text": [
            "Requirement already satisfied: pandas in /usr/local/lib/python3.10/dist-packages (1.5.3)\n",
            "Requirement already satisfied: python-dateutil>=2.8.1 in /usr/local/lib/python3.10/dist-packages (from pandas) (2.8.2)\n",
            "Requirement already satisfied: pytz>=2020.1 in /usr/local/lib/python3.10/dist-packages (from pandas) (2023.3.post1)\n",
            "Requirement already satisfied: numpy>=1.21.0 in /usr/local/lib/python3.10/dist-packages (from pandas) (1.23.5)\n",
            "Requirement already satisfied: six>=1.5 in /usr/local/lib/python3.10/dist-packages (from python-dateutil>=2.8.1->pandas) (1.16.0)\n",
            "Requirement already satisfied: seaborn in /usr/local/lib/python3.10/dist-packages (0.12.2)\n",
            "Requirement already satisfied: numpy!=1.24.0,>=1.17 in /usr/local/lib/python3.10/dist-packages (from seaborn) (1.23.5)\n",
            "Requirement already satisfied: pandas>=0.25 in /usr/local/lib/python3.10/dist-packages (from seaborn) (1.5.3)\n",
            "Requirement already satisfied: matplotlib!=3.6.1,>=3.1 in /usr/local/lib/python3.10/dist-packages (from seaborn) (3.7.1)\n",
            "Requirement already satisfied: contourpy>=1.0.1 in /usr/local/lib/python3.10/dist-packages (from matplotlib!=3.6.1,>=3.1->seaborn) (1.1.1)\n",
            "Requirement already satisfied: cycler>=0.10 in /usr/local/lib/python3.10/dist-packages (from matplotlib!=3.6.1,>=3.1->seaborn) (0.12.1)\n",
            "Requirement already satisfied: fonttools>=4.22.0 in /usr/local/lib/python3.10/dist-packages (from matplotlib!=3.6.1,>=3.1->seaborn) (4.43.1)\n",
            "Requirement already satisfied: kiwisolver>=1.0.1 in /usr/local/lib/python3.10/dist-packages (from matplotlib!=3.6.1,>=3.1->seaborn) (1.4.5)\n",
            "Requirement already satisfied: packaging>=20.0 in /usr/local/lib/python3.10/dist-packages (from matplotlib!=3.6.1,>=3.1->seaborn) (23.2)\n",
            "Requirement already satisfied: pillow>=6.2.0 in /usr/local/lib/python3.10/dist-packages (from matplotlib!=3.6.1,>=3.1->seaborn) (9.4.0)\n",
            "Requirement already satisfied: pyparsing>=2.3.1 in /usr/local/lib/python3.10/dist-packages (from matplotlib!=3.6.1,>=3.1->seaborn) (3.1.1)\n",
            "Requirement already satisfied: python-dateutil>=2.7 in /usr/local/lib/python3.10/dist-packages (from matplotlib!=3.6.1,>=3.1->seaborn) (2.8.2)\n",
            "Requirement already satisfied: pytz>=2020.1 in /usr/local/lib/python3.10/dist-packages (from pandas>=0.25->seaborn) (2023.3.post1)\n",
            "Requirement already satisfied: six>=1.5 in /usr/local/lib/python3.10/dist-packages (from python-dateutil>=2.7->matplotlib!=3.6.1,>=3.1->seaborn) (1.16.0)\n",
            "Requirement already satisfied: scikit-learn in /usr/local/lib/python3.10/dist-packages (1.2.2)\n",
            "Requirement already satisfied: numpy>=1.17.3 in /usr/local/lib/python3.10/dist-packages (from scikit-learn) (1.23.5)\n",
            "Requirement already satisfied: scipy>=1.3.2 in /usr/local/lib/python3.10/dist-packages (from scikit-learn) (1.11.3)\n",
            "Requirement already satisfied: joblib>=1.1.1 in /usr/local/lib/python3.10/dist-packages (from scikit-learn) (1.3.2)\n",
            "Requirement already satisfied: threadpoolctl>=2.0.0 in /usr/local/lib/python3.10/dist-packages (from scikit-learn) (3.2.0)\n",
            "Collecting mca\n",
            "  Downloading mca-1.0.3.tar.gz (17 kB)\n",
            "  Preparing metadata (setup.py) ... \u001b[?25l\u001b[?25hdone\n",
            "Requirement already satisfied: scipy in /usr/local/lib/python3.10/dist-packages (from mca) (1.11.3)\n",
            "Requirement already satisfied: numpy in /usr/local/lib/python3.10/dist-packages (from mca) (1.23.5)\n",
            "Requirement already satisfied: pandas in /usr/local/lib/python3.10/dist-packages (from mca) (1.5.3)\n",
            "Requirement already satisfied: python-dateutil>=2.8.1 in /usr/local/lib/python3.10/dist-packages (from pandas->mca) (2.8.2)\n",
            "Requirement already satisfied: pytz>=2020.1 in /usr/local/lib/python3.10/dist-packages (from pandas->mca) (2023.3.post1)\n",
            "Requirement already satisfied: six>=1.5 in /usr/local/lib/python3.10/dist-packages (from python-dateutil>=2.8.1->pandas->mca) (1.16.0)\n",
            "Building wheels for collected packages: mca\n",
            "  Building wheel for mca (setup.py) ... \u001b[?25l\u001b[?25hdone\n",
            "  Created wheel for mca: filename=mca-1.0.3-py2.py3-none-any.whl size=6010 sha256=b9ee79c4cbc8661fb31edb1f05b0a46e141760c2343f52dc71c5e08b8da560cd\n",
            "  Stored in directory: /root/.cache/pip/wheels/41/3c/28/32383be9777008d3318b6e787b89273ca4a6c6c915ce9bd1f3\n",
            "Successfully built mca\n",
            "Installing collected packages: mca\n",
            "Successfully installed mca-1.0.3\n",
            "Requirement already satisfied: matplotlib in /usr/local/lib/python3.10/dist-packages (3.7.1)\n",
            "Requirement already satisfied: contourpy>=1.0.1 in /usr/local/lib/python3.10/dist-packages (from matplotlib) (1.1.1)\n",
            "Requirement already satisfied: cycler>=0.10 in /usr/local/lib/python3.10/dist-packages (from matplotlib) (0.12.1)\n",
            "Requirement already satisfied: fonttools>=4.22.0 in /usr/local/lib/python3.10/dist-packages (from matplotlib) (4.43.1)\n",
            "Requirement already satisfied: kiwisolver>=1.0.1 in /usr/local/lib/python3.10/dist-packages (from matplotlib) (1.4.5)\n",
            "Requirement already satisfied: numpy>=1.20 in /usr/local/lib/python3.10/dist-packages (from matplotlib) (1.23.5)\n",
            "Requirement already satisfied: packaging>=20.0 in /usr/local/lib/python3.10/dist-packages (from matplotlib) (23.2)\n",
            "Requirement already satisfied: pillow>=6.2.0 in /usr/local/lib/python3.10/dist-packages (from matplotlib) (9.4.0)\n",
            "Requirement already satisfied: pyparsing>=2.3.1 in /usr/local/lib/python3.10/dist-packages (from matplotlib) (3.1.1)\n",
            "Requirement already satisfied: python-dateutil>=2.7 in /usr/local/lib/python3.10/dist-packages (from matplotlib) (2.8.2)\n",
            "Requirement already satisfied: six>=1.5 in /usr/local/lib/python3.10/dist-packages (from python-dateutil>=2.7->matplotlib) (1.16.0)\n",
            "Collecting japanize-matplotlib\n",
            "  Downloading japanize-matplotlib-1.1.3.tar.gz (4.1 MB)\n",
            "\u001b[2K     \u001b[90m━━━━━━━━━━━━━━━━━━━━━━━━━━━━━━━━━━━━━━━━\u001b[0m \u001b[32m4.1/4.1 MB\u001b[0m \u001b[31m20.4 MB/s\u001b[0m eta \u001b[36m0:00:00\u001b[0m\n",
            "\u001b[?25h  Preparing metadata (setup.py) ... \u001b[?25l\u001b[?25hdone\n",
            "Requirement already satisfied: matplotlib in /usr/local/lib/python3.10/dist-packages (from japanize-matplotlib) (3.7.1)\n",
            "Requirement already satisfied: contourpy>=1.0.1 in /usr/local/lib/python3.10/dist-packages (from matplotlib->japanize-matplotlib) (1.1.1)\n",
            "Requirement already satisfied: cycler>=0.10 in /usr/local/lib/python3.10/dist-packages (from matplotlib->japanize-matplotlib) (0.12.1)\n",
            "Requirement already satisfied: fonttools>=4.22.0 in /usr/local/lib/python3.10/dist-packages (from matplotlib->japanize-matplotlib) (4.43.1)\n",
            "Requirement already satisfied: kiwisolver>=1.0.1 in /usr/local/lib/python3.10/dist-packages (from matplotlib->japanize-matplotlib) (1.4.5)\n",
            "Requirement already satisfied: numpy>=1.20 in /usr/local/lib/python3.10/dist-packages (from matplotlib->japanize-matplotlib) (1.23.5)\n",
            "Requirement already satisfied: packaging>=20.0 in /usr/local/lib/python3.10/dist-packages (from matplotlib->japanize-matplotlib) (23.2)\n",
            "Requirement already satisfied: pillow>=6.2.0 in /usr/local/lib/python3.10/dist-packages (from matplotlib->japanize-matplotlib) (9.4.0)\n",
            "Requirement already satisfied: pyparsing>=2.3.1 in /usr/local/lib/python3.10/dist-packages (from matplotlib->japanize-matplotlib) (3.1.1)\n",
            "Requirement already satisfied: python-dateutil>=2.7 in /usr/local/lib/python3.10/dist-packages (from matplotlib->japanize-matplotlib) (2.8.2)\n",
            "Requirement already satisfied: six>=1.5 in /usr/local/lib/python3.10/dist-packages (from python-dateutil>=2.7->matplotlib->japanize-matplotlib) (1.16.0)\n",
            "Building wheels for collected packages: japanize-matplotlib\n",
            "  Building wheel for japanize-matplotlib (setup.py) ... \u001b[?25l\u001b[?25hdone\n",
            "  Created wheel for japanize-matplotlib: filename=japanize_matplotlib-1.1.3-py3-none-any.whl size=4120257 sha256=7bbd96d17f693ef255975367720f8f8f18a8e81e24d059692e78cff0006ac73f\n",
            "  Stored in directory: /root/.cache/pip/wheels/61/7a/6b/df1f79be9c59862525070e157e62b08eab8ece27c1b68fbb94\n",
            "Successfully built japanize-matplotlib\n",
            "Installing collected packages: japanize-matplotlib\n",
            "Successfully installed japanize-matplotlib-1.1.3\n",
            "Collecting prince\n",
            "  Downloading prince-0.13.0-py3-none-any.whl (415 kB)\n",
            "\u001b[2K     \u001b[90m━━━━━━━━━━━━━━━━━━━━━━━━━━━━━━━━━━━━━━━━\u001b[0m \u001b[32m415.6/415.6 kB\u001b[0m \u001b[31m6.9 MB/s\u001b[0m eta \u001b[36m0:00:00\u001b[0m\n",
            "\u001b[?25hRequirement already satisfied: altair<6.0.0,>=4.2.2 in /usr/local/lib/python3.10/dist-packages (from prince) (4.2.2)\n",
            "Requirement already satisfied: pandas<3.0.0,>=1.4.1 in /usr/local/lib/python3.10/dist-packages (from prince) (1.5.3)\n",
            "Requirement already satisfied: scikit-learn<2.0.0,>=1.0.2 in /usr/local/lib/python3.10/dist-packages (from prince) (1.2.2)\n",
            "Requirement already satisfied: entrypoints in /usr/local/lib/python3.10/dist-packages (from altair<6.0.0,>=4.2.2->prince) (0.4)\n",
            "Requirement already satisfied: jinja2 in /usr/local/lib/python3.10/dist-packages (from altair<6.0.0,>=4.2.2->prince) (3.1.2)\n",
            "Requirement already satisfied: jsonschema>=3.0 in /usr/local/lib/python3.10/dist-packages (from altair<6.0.0,>=4.2.2->prince) (4.19.1)\n",
            "Requirement already satisfied: numpy in /usr/local/lib/python3.10/dist-packages (from altair<6.0.0,>=4.2.2->prince) (1.23.5)\n",
            "Requirement already satisfied: toolz in /usr/local/lib/python3.10/dist-packages (from altair<6.0.0,>=4.2.2->prince) (0.12.0)\n",
            "Requirement already satisfied: python-dateutil>=2.8.1 in /usr/local/lib/python3.10/dist-packages (from pandas<3.0.0,>=1.4.1->prince) (2.8.2)\n",
            "Requirement already satisfied: pytz>=2020.1 in /usr/local/lib/python3.10/dist-packages (from pandas<3.0.0,>=1.4.1->prince) (2023.3.post1)\n",
            "Requirement already satisfied: scipy>=1.3.2 in /usr/local/lib/python3.10/dist-packages (from scikit-learn<2.0.0,>=1.0.2->prince) (1.11.3)\n",
            "Requirement already satisfied: joblib>=1.1.1 in /usr/local/lib/python3.10/dist-packages (from scikit-learn<2.0.0,>=1.0.2->prince) (1.3.2)\n",
            "Requirement already satisfied: threadpoolctl>=2.0.0 in /usr/local/lib/python3.10/dist-packages (from scikit-learn<2.0.0,>=1.0.2->prince) (3.2.0)\n",
            "Requirement already satisfied: attrs>=22.2.0 in /usr/local/lib/python3.10/dist-packages (from jsonschema>=3.0->altair<6.0.0,>=4.2.2->prince) (23.1.0)\n",
            "Requirement already satisfied: jsonschema-specifications>=2023.03.6 in /usr/local/lib/python3.10/dist-packages (from jsonschema>=3.0->altair<6.0.0,>=4.2.2->prince) (2023.7.1)\n",
            "Requirement already satisfied: referencing>=0.28.4 in /usr/local/lib/python3.10/dist-packages (from jsonschema>=3.0->altair<6.0.0,>=4.2.2->prince) (0.30.2)\n",
            "Requirement already satisfied: rpds-py>=0.7.1 in /usr/local/lib/python3.10/dist-packages (from jsonschema>=3.0->altair<6.0.0,>=4.2.2->prince) (0.10.4)\n",
            "Requirement already satisfied: six>=1.5 in /usr/local/lib/python3.10/dist-packages (from python-dateutil>=2.8.1->pandas<3.0.0,>=1.4.1->prince) (1.16.0)\n",
            "Requirement already satisfied: MarkupSafe>=2.0 in /usr/local/lib/python3.10/dist-packages (from jinja2->altair<6.0.0,>=4.2.2->prince) (2.1.3)\n",
            "Installing collected packages: prince\n",
            "Successfully installed prince-0.13.0\n"
          ]
        }
      ],
      "source": [
        "!pip install pandas\n",
        "!pip install seaborn\n",
        "!pip install scikit-learn\n",
        "!pip install mca\n",
        "!pip install matplotlib\n",
        "!pip install japanize-matplotlib\n",
        "!pip install prince"
      ]
    },
    {
      "cell_type": "code",
      "source": [
        "# ライブラリのインポート\n",
        "import pandas as pd\n",
        "import mca\n",
        "import matplotlib.pyplot as plt\n",
        "import japanize_matplotlib\n",
        "\n",
        "# クロス集計表の作成\n",
        "data = pd.DataFrame({\n",
        "    \"性別\": [\"男\", \"男\", \"未\", \"未\", \"女\", \"女\"],\n",
        "    \"趣味\": [\"音楽\", \"スポーツ\", \"読書\", \"音楽\", \"読書\", \"映画\"]\n",
        "})\n",
        "print(data)\n",
        "\n",
        "\n",
        "# df = pd.read_csv(\"ice_cream.csv\", index_col=0)\n",
        "# print(df)\n",
        "#cross tableの作成\n",
        "table = pd.crosstab(data[\"性別\"], data[\"趣味\"])\n",
        "print(table)\n",
        "\n",
        "\n",
        "\n",
        "# 対応分析の実行\n",
        "mca_counts = mca.MCA(table,benzecri=False)\n",
        "rows = mca_counts.fs_r(N=2) # 行の座標\n",
        "cols = mca_counts.fs_c(N=2) # 列の座標\n",
        "\n",
        "# 散布図の描画\n",
        "print(rows)\n",
        "print(cols)\n",
        "print(\"-\"*10)\n",
        "print(rows[:, 0])\n",
        "print(rows[:, 1])\n",
        "print(\"-\"*10)\n",
        "print(cols[:, 0])\n",
        "print(cols[:, 1])\n",
        "plt.scatter(rows[:, 0], rows[:, 1], c=\"blue\") # 行のプロット\n",
        "plt.scatter(cols[:, 0], cols[:, 1], c=\"red\") # 列のプロット\n",
        "plt.axhline(0, color=\"gray\") # 水平軸\n",
        "plt.axvline(0, color=\"gray\") # 垂直軸\n",
        "\n",
        "# ラベルの付与\n",
        "for label, x, y in zip(table.index, rows[:, 0], rows[:, 1]):\n",
        "    plt.annotate(label, xy=(x, y), c=\"blue\") # 行のラベル\n",
        "for label, x, y in zip(table.columns, cols[:, 0], cols[:, 1]):\n",
        "    plt.annotate(label, xy=(x, y), c=\"red\") # 列のラベル\n",
        "\n",
        "plt.show() # グラフの表示"
      ],
      "metadata": {
        "colab": {
          "base_uri": "https://localhost:8080/",
          "height": 854
        },
        "id": "4xLvcR9ITczJ",
        "outputId": "91920740-6086-4825-f2b3-a95d7ba58efd"
      },
      "execution_count": 25,
      "outputs": [
        {
          "output_type": "stream",
          "name": "stdout",
          "text": [
            "  性別    趣味\n",
            "0  男    音楽\n",
            "1  男  スポーツ\n",
            "2  未    読書\n",
            "3  未    音楽\n",
            "4  女    読書\n",
            "5  女    映画\n",
            "趣味  スポーツ  映画  読書  音楽\n",
            "性別                  \n",
            "女      0   1   1   0\n",
            "未      0   0   1   1\n",
            "男      1   0   0   1\n",
            "[[ 1.06066017e+00 -3.53553391e-01]\n",
            " [-1.66533454e-16  7.07106781e-01]\n",
            " [-1.06066017e+00 -3.53553391e-01]]\n",
            "[[-1.22474487 -0.70710678]\n",
            " [ 1.22474487 -0.70710678]\n",
            " [ 0.61237244  0.35355339]\n",
            " [-0.61237244  0.35355339]]\n",
            "----------\n",
            "[ 1.06066017e+00 -1.66533454e-16 -1.06066017e+00]\n",
            "[-0.35355339  0.70710678 -0.35355339]\n",
            "----------\n",
            "[-1.22474487  1.22474487  0.61237244 -0.61237244]\n",
            "[-0.70710678 -0.70710678  0.35355339  0.35355339]\n"
          ]
        },
        {
          "output_type": "display_data",
          "data": {
            "text/plain": [
              "<Figure size 640x480 with 1 Axes>"
            ],
            "image/png": "[encoded data removed]"
          },
          "metadata": {}
        }
      ]
    },
    {
      "cell_type": "code",
      "source": [
        "# ライブラリのインポート\n",
        "import pandas as pd\n",
        "import mca\n",
        "import matplotlib.pyplot as plt\n",
        "import japanize_matplotlib\n",
        "\n",
        "# クロス集計表の作成\n",
        "df = pd.DataFrame({\n",
        "    \"性別\": [\"男\", \"女\", \"男\", \"女\", \"男\"],\n",
        "    \"年齢\": [\"20代\", \"30代\", \"40代\", \"20代\", \"30代\"],\n",
        "    \"趣味\": [\"スポーツ\", \"読書\", \"映画\", \"音楽\", \"スポーツ\"]\n",
        "})\n",
        "ct = pd.crosstab(df[\"性別\"], df[\"趣味\"])\n",
        "print(ct)\n",
        "\n",
        "# mcaでデータを加工\n",
        "mca_counts = mca.MCA(ct, benzecri=False)\n",
        "rows = mca_counts.fs_r(N=2)\n",
        "cols = mca_counts.fs_c(N=2)\n",
        "\n",
        "print(rows)\n",
        "print(cols)\n",
        "print(rows[:, 0])\n",
        "print(rows[:, 1])\n",
        "# matplotlibでデータを可視化\n",
        "fig, ax = plt.subplots(figsize=(8, 8))\n",
        "\n",
        "# 行の処理\n",
        "ax.scatter(rows[:, 0], rows[:, 1], c=\"pink\", marker=\"o\", s=200)\n",
        "# ax.scatter(rows[0], rows[1], c=\"pink\", marker=\"o\", s=200)\n",
        "labels = ct.index.values\n",
        "# for label, x, y in zip(labels, rows[:, 0], rows[:, 1]):\n",
        "for label, x, y in zip(labels, rows[0], rows[1]):\n",
        "    ax.annotate(label, xy=(x, y), fontsize=15)\n",
        "\n",
        "# 列の処理\n",
        "ax.scatter(cols[:, 0], cols[:, 1], c=\"skyblue\", marker=\"s\", s=200)\n",
        "# ax.scatter(cols[0], cols[1], c=\"skyblue\", marker=\"s\", s=200)\n",
        "labels = ct.columns.values\n",
        "# for label, x, y in zip(labels, cols[:, 0], cols[:, 1]):\n",
        "for label, x, y in zip(labels, cols[0], cols[ 1]):\n",
        "    ax.annotate(label, xy=(x, y), fontsize=15)\n",
        "\n",
        "# 原点（0,0）を引く\n",
        "ax.axhline(0, color=\"gray\")\n",
        "ax.axvline(0, color=\"gray\")\n",
        "plt.show()"
      ],
      "metadata": {
        "colab": {
          "base_uri": "https://localhost:8080/",
          "height": 399
        },
        "id": "HgqOX4MmJ3SH",
        "outputId": "b7f27a37-c939-4bd6-bc1a-a60e8d1512c2"
      },
      "execution_count": 18,
      "outputs": [
        {
          "output_type": "stream",
          "name": "stdout",
          "text": [
            "Category2  X  Y\n",
            "Category1      \n",
            "A          4  0\n",
            "B          0  4\n",
            "[[-1.]\n",
            " [ 1.]]\n",
            "[[-1.]\n",
            " [ 1.]]\n",
            "[-1.  1.]\n"
          ]
        },
        {
          "output_type": "error",
          "ename": "IndexError",
          "evalue": "ignored",
          "traceback": [
            "\u001b[0;31m---------------------------------------------------------------------------\u001b[0m",
            "\u001b[0;31mIndexError\u001b[0m                                Traceback (most recent call last)",
            "\u001b[0;32m<ipython-input-18-b8350cac4fec>\u001b[0m in \u001b[0;36m<cell line: 24>\u001b[0;34m()\u001b[0m\n\u001b[1;32m     22\u001b[0m \u001b[0mprint\u001b[0m\u001b[0;34m(\u001b[0m\u001b[0mcols\u001b[0m\u001b[0;34m)\u001b[0m\u001b[0;34m\u001b[0m\u001b[0;34m\u001b[0m\u001b[0m\n\u001b[1;32m     23\u001b[0m \u001b[0mprint\u001b[0m\u001b[0;34m(\u001b[0m\u001b[0mrows\u001b[0m\u001b[0;34m[\u001b[0m\u001b[0;34m:\u001b[0m\u001b[0;34m,\u001b[0m \u001b[0;36m0\u001b[0m\u001b[0;34m]\u001b[0m\u001b[0;34m)\u001b[0m\u001b[0;34m\u001b[0m\u001b[0;34m\u001b[0m\u001b[0m\n\u001b[0;32m---> 24\u001b[0;31m \u001b[0mprint\u001b[0m\u001b[0;34m(\u001b[0m\u001b[0mrows\u001b[0m\u001b[0;34m[\u001b[0m\u001b[0;34m:\u001b[0m\u001b[0;34m,\u001b[0m \u001b[0;36m1\u001b[0m\u001b[0;34m]\u001b[0m\u001b[0;34m)\u001b[0m\u001b[0;34m\u001b[0m\u001b[0;34m\u001b[0m\u001b[0m\n\u001b[0m\u001b[1;32m     25\u001b[0m \u001b[0;31m# matplotlibでデータを可視化\u001b[0m\u001b[0;34m\u001b[0m\u001b[0;34m\u001b[0m\u001b[0m\n\u001b[1;32m     26\u001b[0m \u001b[0mfig\u001b[0m\u001b[0;34m,\u001b[0m \u001b[0max\u001b[0m \u001b[0;34m=\u001b[0m \u001b[0mplt\u001b[0m\u001b[0;34m.\u001b[0m\u001b[0msubplots\u001b[0m\u001b[0;34m(\u001b[0m\u001b[0mfigsize\u001b[0m\u001b[0;34m=\u001b[0m\u001b[0;34m(\u001b[0m\u001b[0;36m8\u001b[0m\u001b[0;34m,\u001b[0m \u001b[0;36m8\u001b[0m\u001b[0;34m)\u001b[0m\u001b[0;34m)\u001b[0m\u001b[0;34m\u001b[0m\u001b[0;34m\u001b[0m\u001b[0m\n",
            "\u001b[0;31mIndexError\u001b[0m: index 1 is out of bounds for axis 1 with size 1"
          ]
        }
      ]
    },
    {
      "cell_type": "code",
      "source": [
        "import pandas as pd\n",
        "from prince import CA\n",
        "import seaborn as sns\n",
        "import matplotlib.pyplot as plt\n",
        "\n",
        "# サンプルデータを作成\n",
        "data = {\n",
        "    'Category1': ['A', 'B', 'A', 'B', 'A', 'B', 'A', 'B'],\n",
        "    'Category2': ['X', 'Y', 'X', 'Y', 'X', 'Y', 'X', 'Y'],\n",
        "    'Count': [10, 15, 13, 20, 7, 9, 8, 12]\n",
        "}\n",
        "\n",
        "df = pd.DataFrame(data)\n",
        "\n",
        "# カテゴリカルデータをダミー変数に変換\n",
        "df_encoded = pd.get_dummies(df[['Category1', 'Category2']])\n",
        "\n",
        "# 対応分析を実行\n",
        "ca = CA(n_components=2)\n",
        "ca.fit(df_encoded)\n",
        "\n",
        "# 結果をプロット\n",
        "sns.set(style=\"darkgrid\")\n",
        "sns.scatterplot(x=ca.column_coordinates_[0], y=ca.column_coordinates_[1], hue=df['Category1'])\n",
        "plt.xlabel(f'Axis 1 ({ca.explained_inertia_[0]*100:.2f}%)')\n",
        "plt.ylabel(f'Axis 2 ({ca.explained_inertia_[1]*100:.2f}%)')\n",
        "plt.title('Correspondence Analysis')\n",
        "plt.show()\n"
      ],
      "metadata": {
        "colab": {
          "base_uri": "https://localhost:8080/",
          "height": 334
        },
        "id": "ci67A7hpfqUq",
        "outputId": "1013cbb3-ae3b-4fcf-e7af-8794e13b6076"
      },
      "execution_count": 24,
      "outputs": [
        {
          "output_type": "stream",
          "name": "stderr",
          "text": [
            "/usr/local/lib/python3.10/dist-packages/prince/ca.py:98: RuntimeWarning: invalid value encountered in divide\n",
            "  sparse.diags(self.row_masses_.values)\n",
            "/usr/local/lib/python3.10/dist-packages/prince/ca.py:113: RuntimeWarning: invalid value encountered in divide\n",
            "  sparse.diags(self.col_masses_.values)\n"
          ]
        },
        {
          "output_type": "error",
          "ename": "AttributeError",
          "evalue": "ignored",
          "traceback": [
            "\u001b[0;31m---------------------------------------------------------------------------\u001b[0m",
            "\u001b[0;31mAttributeError\u001b[0m                            Traceback (most recent call last)",
            "\u001b[0;32m<ipython-input-24-5eea6558eea1>\u001b[0m in \u001b[0;36m<cell line: 24>\u001b[0;34m()\u001b[0m\n\u001b[1;32m     22\u001b[0m \u001b[0;31m# 結果をプロット\u001b[0m\u001b[0;34m\u001b[0m\u001b[0;34m\u001b[0m\u001b[0m\n\u001b[1;32m     23\u001b[0m \u001b[0msns\u001b[0m\u001b[0;34m.\u001b[0m\u001b[0mset\u001b[0m\u001b[0;34m(\u001b[0m\u001b[0mstyle\u001b[0m\u001b[0;34m=\u001b[0m\u001b[0;34m\"darkgrid\"\u001b[0m\u001b[0;34m)\u001b[0m\u001b[0;34m\u001b[0m\u001b[0;34m\u001b[0m\u001b[0m\n\u001b[0;32m---> 24\u001b[0;31m \u001b[0msns\u001b[0m\u001b[0;34m.\u001b[0m\u001b[0mscatterplot\u001b[0m\u001b[0;34m(\u001b[0m\u001b[0mx\u001b[0m\u001b[0;34m=\u001b[0m\u001b[0mca\u001b[0m\u001b[0;34m.\u001b[0m\u001b[0mcolumn_coordinates_\u001b[0m\u001b[0;34m[\u001b[0m\u001b[0;36m0\u001b[0m\u001b[0;34m]\u001b[0m\u001b[0;34m,\u001b[0m \u001b[0my\u001b[0m\u001b[0;34m=\u001b[0m\u001b[0mca\u001b[0m\u001b[0;34m.\u001b[0m\u001b[0mcolumn_coordinates_\u001b[0m\u001b[0;34m[\u001b[0m\u001b[0;36m1\u001b[0m\u001b[0;34m]\u001b[0m\u001b[0;34m,\u001b[0m \u001b[0mhue\u001b[0m\u001b[0;34m=\u001b[0m\u001b[0mdf\u001b[0m\u001b[0;34m[\u001b[0m\u001b[0;34m'Category1'\u001b[0m\u001b[0;34m]\u001b[0m\u001b[0;34m)\u001b[0m\u001b[0;34m\u001b[0m\u001b[0;34m\u001b[0m\u001b[0m\n\u001b[0m\u001b[1;32m     25\u001b[0m \u001b[0mplt\u001b[0m\u001b[0;34m.\u001b[0m\u001b[0mxlabel\u001b[0m\u001b[0;34m(\u001b[0m\u001b[0;34mf'Axis 1 ({ca.explained_inertia_[0]*100:.2f}%)'\u001b[0m\u001b[0;34m)\u001b[0m\u001b[0;34m\u001b[0m\u001b[0;34m\u001b[0m\u001b[0m\n\u001b[1;32m     26\u001b[0m \u001b[0mplt\u001b[0m\u001b[0;34m.\u001b[0m\u001b[0mylabel\u001b[0m\u001b[0;34m(\u001b[0m\u001b[0;34mf'Axis 2 ({ca.explained_inertia_[1]*100:.2f}%)'\u001b[0m\u001b[0;34m)\u001b[0m\u001b[0;34m\u001b[0m\u001b[0;34m\u001b[0m\u001b[0m\n",
            "\u001b[0;31mAttributeError\u001b[0m: 'CA' object has no attribute 'column_coordinates_'"
          ]
        }
      ]
    },
    {
      "cell_type": "code",
      "source": [
        "# ライブラリのインポート\n",
        "import pandas as pd\n",
        "import mca\n",
        "import matplotlib.pyplot as plt\n",
        "import japanize_matplotlib\n",
        "\n",
        "# クロス集計表の作成\n",
        "df = pd.DataFrame({\n",
        "    \"性別\": [\"男\", \"女\", \"男\", \"女\", \"男\"],\n",
        "    \"趣味\": [\"スポーツ\", \"読書\", \"映画\", \"音楽\", \"スポーツ\"]\n",
        "})\n",
        "print(df)\n",
        "\n",
        "table = pd.crosstab(df[\"性別\"], df[\"趣味\"])\n",
        "print(table)\n",
        "\n",
        "# 対応分析の実行\n",
        "mca_counts = mca.MCA(table,benzecri=False)\n",
        "rows = mca_counts.fs_r(N=2) # 行の座標\n",
        "cols = mca_counts.fs_c(N=2) # 列の座標\n",
        "\n",
        "# 棒グラフの描画\n",
        "plt.bar(table.index, rows[:, 0], color=\"blue\") # 行のプロット\n",
        "plt.bar(table.columns, cols[:, 0], color=\"red\") # 列のプロット\n",
        "\n",
        "# ラベルの付与\n",
        "plt.xticks(ticks=range(len(table.index) + len(table.columns)), labels=list(table.index) + list(table.columns), rotation=90)\n",
        "plt.xlabel(\"カテゴリ\")\n",
        "plt.ylabel(\"第一主成分\")\n",
        "\n",
        "plt.show() # グラフの表示\n"
      ],
      "metadata": {
        "colab": {
          "base_uri": "https://localhost:8080/",
          "height": 660
        },
        "id": "dqUnxM2blzZe",
        "outputId": "12897758-230b-4627-b20f-9c4cd6e3830b"
      },
      "execution_count": 19,
      "outputs": [
        {
          "output_type": "stream",
          "name": "stdout",
          "text": [
            "  性別    趣味\n",
            "0  男  スポーツ\n",
            "1  女    読書\n",
            "2  男    映画\n",
            "3  女    音楽\n",
            "4  男  スポーツ\n",
            "趣味  スポーツ  映画  読書  音楽\n",
            "性別                  \n",
            "女      0   0   1   1\n",
            "男      2   1   0   0\n"
          ]
        },
        {
          "output_type": "display_data",
          "data": {
            "text/plain": [
              "<Figure size 640x480 with 1 Axes>"
            ],
            "image/png": "[encoded data removed]"
          },
          "metadata": {}
        }
      ]
    }
  ]
}